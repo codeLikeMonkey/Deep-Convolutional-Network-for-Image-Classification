{
 "cells": [
  {
   "cell_type": "code",
   "execution_count": 1,
   "metadata": {},
   "outputs": [
    {
     "name": "stdout",
     "output_type": "stream",
     "text": [
      "Files already downloaded and verified\n",
      "Files already downloaded and verified\n",
      "Epoch [1/12], Train: 45.1600 Test: 45.0400\n",
      "Epoch [1/12], Train: 54.1420 Test: 53.0800\n",
      "Epoch [1/12], Train: 59.7220 Test: 59.1300\n",
      "Epoch [1/12], Train: 62.7360 Test: 61.7700\n",
      "Epoch [1/12], Train: 65.7500 Test: 64.7900\n",
      "Epoch [2/12], Train: 69.4520 Test: 67.4800\n",
      "Epoch [2/12], Train: 69.0520 Test: 65.9700\n",
      "Epoch [2/12], Train: 72.5680 Test: 69.2100\n",
      "Epoch [2/12], Train: 75.0680 Test: 71.7000\n",
      "Epoch [2/12], Train: 75.7560 Test: 71.7600\n",
      "Epoch [3/12], Train: 76.8560 Test: 71.7100\n",
      "Epoch [3/12], Train: 78.3400 Test: 72.4300\n",
      "Epoch [3/12], Train: 76.8820 Test: 71.3100\n",
      "Epoch [3/12], Train: 80.0000 Test: 73.2600\n",
      "Epoch [3/12], Train: 80.9020 Test: 74.5900\n",
      "Epoch [4/12], Train: 81.8780 Test: 74.3700\n",
      "Epoch [4/12], Train: 83.1480 Test: 74.6000\n",
      "Epoch [4/12], Train: 83.9020 Test: 75.4400\n",
      "Epoch [4/12], Train: 85.8760 Test: 76.1600\n",
      "Epoch [4/12], Train: 85.7500 Test: 75.4500\n",
      "Epoch [5/12], Train: 86.7880 Test: 75.7200\n",
      "Epoch [5/12], Train: 86.4820 Test: 75.1100\n",
      "Epoch [5/12], Train: 85.5620 Test: 75.1600\n",
      "Epoch [5/12], Train: 88.4820 Test: 76.1200\n",
      "Epoch [5/12], Train: 89.2160 Test: 75.8200\n",
      "Epoch [6/12], Train: 90.1700 Test: 76.4900\n",
      "Epoch [6/12], Train: 88.7620 Test: 75.5400\n",
      "Epoch [6/12], Train: 88.6300 Test: 74.9300\n",
      "Epoch [6/12], Train: 91.4600 Test: 76.2900\n",
      "Epoch [6/12], Train: 91.8460 Test: 76.1800\n",
      "Epoch [7/12], Train: 93.7580 Test: 77.3400\n",
      "Epoch [7/12], Train: 92.5260 Test: 75.6700\n",
      "Epoch [7/12], Train: 93.0680 Test: 76.0500\n",
      "Epoch [7/12], Train: 92.4480 Test: 75.2500\n",
      "Epoch [7/12], Train: 93.0580 Test: 75.5500\n",
      "Epoch [8/12], Train: 93.9680 Test: 75.4900\n",
      "Epoch [8/12], Train: 93.3600 Test: 75.2500\n",
      "Epoch [8/12], Train: 94.0820 Test: 75.4400\n",
      "Epoch [8/12], Train: 94.4080 Test: 74.5500\n",
      "Epoch [8/12], Train: 94.6920 Test: 75.7600\n",
      "Epoch [9/12], Train: 93.6720 Test: 73.5300\n",
      "Epoch [9/12], Train: 95.0060 Test: 75.3200\n",
      "Epoch [9/12], Train: 95.4060 Test: 75.7000\n",
      "Epoch [9/12], Train: 95.8900 Test: 75.9200\n",
      "Epoch [9/12], Train: 95.1680 Test: 74.9400\n",
      "Epoch [10/12], Train: 95.7320 Test: 74.8200\n",
      "Epoch [10/12], Train: 95.1200 Test: 75.2700\n",
      "Epoch [10/12], Train: 96.1620 Test: 75.6800\n",
      "Epoch [10/12], Train: 95.7940 Test: 75.1500\n",
      "Epoch [10/12], Train: 95.5520 Test: 74.8100\n",
      "Epoch [11/12], Train: 96.7280 Test: 75.8100\n",
      "Epoch [11/12], Train: 95.9120 Test: 75.3800\n",
      "Epoch [11/12], Train: 96.5260 Test: 75.6500\n",
      "Epoch [11/12], Train: 96.1360 Test: 75.2600\n",
      "Epoch [11/12], Train: 96.4000 Test: 75.0700\n",
      "Epoch [12/12], Train: 97.5640 Test: 75.7600\n",
      "Epoch [12/12], Train: 96.4720 Test: 75.4500\n",
      "Epoch [12/12], Train: 95.8180 Test: 73.9500\n",
      "Epoch [12/12], Train: 95.8240 Test: 74.8900\n",
      "Epoch [12/12], Train: 97.1980 Test: 75.1400\n",
      "CNN2 data save\n"
     ]
    }
   ],
   "source": [
    "from network import *\n",
    "import pickle\n",
    "\n",
    "# Hyper Parameters\n",
    "num_epochs = 12\n",
    "batch_size = 100\n",
    "learning_rate = 0.001\n",
    "\n",
    "#CIFAR-10\n",
    "\n",
    "train_dataset = dsets.CIFAR10(root = \"./datasets/\",train = True,transform = transforms.ToTensor(),download= True)\n",
    "test_dataset = dsets.CIFAR10(root = \"./datasets/\",train = False,transform = transforms.ToTensor(),download= True)\n",
    "\n",
    "\n",
    "#Data Loader\n",
    "\n",
    "train_loader = torch.utils.data.DataLoader(dataset = train_dataset, batch_size = batch_size,shuffle = True)\n",
    "test_loader = torch.utils.data.DataLoader(dataset = test_dataset, batch_size = batch_size,shuffle = False)\n",
    "\n",
    "\n",
    "\n",
    "cnn = CNN2()\n",
    "#xavier initalize\n",
    "nn.init.xavier_normal(cnn.conv1[0].weight)\n",
    "# nn.init.xavier_normal(cnn.conv1[0].bias)\n",
    "cnn.cuda()\n",
    "\n",
    "\n",
    "\n",
    "criterion = nn.CrossEntropyLoss()\n",
    "optimizer = torch.optim.SGD(cnn.parameters(),lr = learning_rate)\n",
    "\n",
    "train_acc_container,test_acc_container = trainning(\n",
    "    net = cnn, \n",
    "    train_loader = train_loader,\n",
    "    \n",
    "    test_loader = test_loader, \n",
    "    criterion = criterion,\n",
    "    optimizer = optimizer, \n",
    "    num_epochs = num_epochs,\n",
    ")\n",
    "\n",
    "with open(\"CNN2_result.dat\",\"wb\") as f:\n",
    "    pickle.dump([train_acc_container,test_acc_container],f)\n",
    "    print(\"CNN2 data save\")"
   ]
  },
  {
   "cell_type": "code",
   "execution_count": 5,
   "metadata": {},
   "outputs": [
    {
     "data": {
      "image/png": "[encoded data removed]",
      "text/plain": [
       "<matplotlib.figure.Figure at 0x7fd360215208>"
      ]
     },
     "metadata": {},
     "output_type": "display_data"
    }
   ],
   "source": [
    "import numpy as np\n",
    "import matplotlib.pyplot as plt\n",
    "\n",
    "plt.plot(np.arange(len(train_acc_container))*100,np.array(train_acc_container))\n",
    "plt.plot(np.arange(len(test_acc_container))*100,np.array(test_acc_container))\n",
    "plt.legend([\"train\",\"test\"])\n",
    "plt.grid()\n",
    "plt.title(\"Accuracy over training\")\n",
    "plt.xlabel(\"Iterations\")\n",
    "plt.ylabel(\"Accuracy\")\n",
    "plt.savefig(\"CNN2.jpg\")\n",
    "plt.show()"
   ]
  },
  {
   "cell_type": "code",
   "execution_count": null,
   "metadata": {},
   "outputs": [],
   "source": []
  }
 ],
 "metadata": {
  "kernelspec": {
   "display_name": "Python 3",
   "language": "python",
   "name": "python3"
  },
  "language_info": {
   "codemirror_mode": {
    "name": "ipython",
    "version": 3
   },
   "file_extension": ".py",
   "mimetype": "text/x-python",
   "name": "python",
   "nbconvert_exporter": "python",
   "pygments_lexer": "ipython3",
   "version": "3.5.4"
  }
 },
 "nbformat": 4,
 "nbformat_minor": 2
}
