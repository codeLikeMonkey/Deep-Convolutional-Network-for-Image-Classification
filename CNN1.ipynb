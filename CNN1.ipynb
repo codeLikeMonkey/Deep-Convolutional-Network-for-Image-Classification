{
 "cells": [
  {
   "cell_type": "code",
   "execution_count": 1,
   "metadata": {},
   "outputs": [
    {
     "name": "stdout",
     "output_type": "stream",
     "text": [
      "Files already downloaded and verified\n",
      "Files already downloaded and verified\n",
      "Epoch [1/12], Train: 36.8280 Test: 37.0400\n",
      "Epoch [1/12], Train: 47.9460 Test: 48.3600\n",
      "Epoch [1/12], Train: 53.2320 Test: 52.6600\n",
      "Epoch [1/12], Train: 54.9240 Test: 54.3300\n",
      "Epoch [1/12], Train: 59.4320 Test: 58.6400\n",
      "Epoch [2/12], Train: 60.6140 Test: 58.9300\n",
      "Epoch [2/12], Train: 65.5060 Test: 63.7200\n",
      "Epoch [2/12], Train: 65.4940 Test: 62.9900\n",
      "Epoch [2/12], Train: 66.6360 Test: 63.5700\n",
      "Epoch [2/12], Train: 69.7660 Test: 67.1700\n",
      "Epoch [3/12], Train: 70.8200 Test: 67.1300\n",
      "Epoch [3/12], Train: 73.2560 Test: 68.6700\n",
      "Epoch [3/12], Train: 75.6060 Test: 70.8000\n",
      "Epoch [3/12], Train: 76.5840 Test: 71.0300\n",
      "Epoch [3/12], Train: 77.6060 Test: 72.2700\n",
      "Epoch [4/12], Train: 78.4760 Test: 71.8600\n",
      "Epoch [4/12], Train: 79.2340 Test: 72.2500\n",
      "Epoch [4/12], Train: 77.9060 Test: 70.9200\n",
      "Epoch [4/12], Train: 81.1240 Test: 73.2000\n",
      "Epoch [4/12], Train: 81.1120 Test: 73.3700\n",
      "Epoch [5/12], Train: 82.2260 Test: 73.6800\n",
      "Epoch [5/12], Train: 81.8800 Test: 72.1200\n",
      "Epoch [5/12], Train: 85.2200 Test: 74.7400\n",
      "Epoch [5/12], Train: 83.9660 Test: 74.0400\n",
      "Epoch [5/12], Train: 85.5080 Test: 74.0700\n",
      "Epoch [6/12], Train: 87.5000 Test: 74.6600\n",
      "Epoch [6/12], Train: 86.3320 Test: 73.9700\n",
      "Epoch [6/12], Train: 87.2720 Test: 74.0900\n",
      "Epoch [6/12], Train: 86.4240 Test: 73.0600\n",
      "Epoch [6/12], Train: 89.5200 Test: 75.1800\n",
      "Epoch [7/12], Train: 90.1080 Test: 74.9400\n",
      "Epoch [7/12], Train: 91.2560 Test: 75.6000\n",
      "Epoch [7/12], Train: 91.6280 Test: 75.1600\n",
      "Epoch [7/12], Train: 90.7740 Test: 73.4700\n",
      "Epoch [7/12], Train: 91.5840 Test: 74.9200\n",
      "Epoch [8/12], Train: 92.3860 Test: 74.4600\n",
      "Epoch [8/12], Train: 93.0240 Test: 75.2200\n",
      "Epoch [8/12], Train: 92.9720 Test: 74.7400\n",
      "Epoch [8/12], Train: 93.2880 Test: 73.8000\n",
      "Epoch [8/12], Train: 94.5460 Test: 74.8100\n",
      "Epoch [9/12], Train: 94.8020 Test: 74.8100\n",
      "Epoch [9/12], Train: 95.0520 Test: 74.9600\n",
      "Epoch [9/12], Train: 93.2480 Test: 72.8900\n",
      "Epoch [9/12], Train: 95.1680 Test: 74.0800\n",
      "Epoch [9/12], Train: 94.7560 Test: 74.3100\n",
      "Epoch [10/12], Train: 95.5180 Test: 74.5000\n",
      "Epoch [10/12], Train: 96.1620 Test: 75.1300\n",
      "Epoch [10/12], Train: 95.5840 Test: 74.2500\n",
      "Epoch [10/12], Train: 95.8120 Test: 73.9200\n",
      "Epoch [10/12], Train: 94.7580 Test: 73.0000\n",
      "Epoch [11/12], Train: 96.8680 Test: 74.4200\n",
      "Epoch [11/12], Train: 95.2620 Test: 73.4400\n",
      "Epoch [11/12], Train: 93.8540 Test: 72.2400\n",
      "Epoch [11/12], Train: 96.3960 Test: 74.2600\n",
      "Epoch [11/12], Train: 97.1580 Test: 74.7300\n",
      "Epoch [12/12], Train: 96.2040 Test: 74.0800\n",
      "Epoch [12/12], Train: 96.4560 Test: 73.7400\n",
      "Epoch [12/12], Train: 96.1480 Test: 74.1500\n",
      "Epoch [12/12], Train: 94.7700 Test: 72.5900\n",
      "Epoch [12/12], Train: 95.5920 Test: 73.5700\n",
      "CNN1 data save\n"
     ]
    }
   ],
   "source": [
    "from network import *\n",
    "import pickle\n",
    "\n",
    "# Hyper Parameters\n",
    "num_epochs = 12\n",
    "batch_size = 100\n",
    "learning_rate = 0.001\n",
    "\n",
    "#CIFAR-10\n",
    "\n",
    "train_dataset = dsets.CIFAR10(root = \"./datasets/\",train = True,transform = transforms.ToTensor(),download= True)\n",
    "test_dataset = dsets.CIFAR10(root = \"./datasets/\",train = False,transform = transforms.ToTensor(),download= True)\n",
    "\n",
    "\n",
    "#Data Loader\n",
    "\n",
    "train_loader = torch.utils.data.DataLoader(dataset = train_dataset, batch_size = batch_size,shuffle = True)\n",
    "test_loader = torch.utils.data.DataLoader(dataset = test_dataset, batch_size = batch_size,shuffle = False)\n",
    "\n",
    "\n",
    "\n",
    "cnn = CNN1()\n",
    "#xavier initalize\n",
    "nn.init.xavier_normal(cnn.conv1[0].weight)\n",
    "# nn.init.xavier_normal(cnn.conv1[0].bias)\n",
    "cnn.cuda()\n",
    "\n",
    "\n",
    "\n",
    "criterion = nn.CrossEntropyLoss()\n",
    "optimizer = torch.optim.Adam(cnn.parameters(),lr = learning_rate)\n",
    "\n",
    "train_acc_container,test_acc_container = trainning(\n",
    "    net = cnn, \n",
    "    train_loader = train_loader,\n",
    "    \n",
    "    test_loader = test_loader, \n",
    "    criterion = criterion,\n",
    "    optimizer = optimizer, \n",
    "    num_epochs = num_epochs,\n",
    ")\n",
    "\n",
    "with open(\"CNN1_result.dat\",\"wb\") as f:\n",
    "    pickle.dump([train_acc_container,test_acc_container],f)\n",
    "    print(\"CNN1 data save\")"
   ]
  },
  {
   "cell_type": "code",
   "execution_count": 3,
   "metadata": {},
   "outputs": [
    {
     "data": {
      "image/png": "[encoded data removed]",
      "text/plain": [
       "<matplotlib.figure.Figure at 0x7f503e2fa128>"
      ]
     },
     "metadata": {},
     "output_type": "display_data"
    }
   ],
   "source": [
    "import numpy as np\n",
    "import matplotlib.pyplot as plt\n",
    "\n",
    "plt.plot(np.arange(len(train_acc_container))*100,np.array(train_acc_container))\n",
    "plt.plot(np.arange(len(test_acc_container))*100,np.array(test_acc_container))\n",
    "plt.legend([\"train\",\"test\"])\n",
    "plt.grid()\n",
    "plt.title(\"Accuracy over training\")\n",
    "plt.xlabel(\"Iterations\")\n",
    "plt.ylabel(\"Accuracy\")\n",
    "plt.savefig(\"CNN1.jpg\")\n",
    "plt.show()"
   ]
  }
 ],
 "metadata": {
  "kernelspec": {
   "display_name": "Python 3",
   "language": "python",
   "name": "python3"
  },
  "language_info": {
   "codemirror_mode": {
    "name": "ipython",
    "version": 3
   },
   "file_extension": ".py",
   "mimetype": "text/x-python",
   "name": "python",
   "nbconvert_exporter": "python",
   "pygments_lexer": "ipython3",
   "version": "3.5.4"
  }
 },
 "nbformat": 4,
 "nbformat_minor": 2
}
