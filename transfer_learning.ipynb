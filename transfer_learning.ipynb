{
 "cells": [
  {
   "cell_type": "markdown",
   "metadata": {},
   "source": [
    "# Import data"
   ]
  },
  {
   "cell_type": "code",
   "execution_count": 1,
   "metadata": {},
   "outputs": [],
   "source": [
    "import torch\n",
    "import torch.nn as nn\n",
    "import torchvision.datasets as dsets\n",
    "import torchvision.transforms as transforms\n",
    "from torch.autograd import Variable\n",
    "from caltech256 import Caltech256\n",
    "import torchvision.models as models\n",
    "\n",
    "#import data\n",
    "\n",
    "example_transform = transforms.Compose(\n",
    "    [\n",
    "        transforms.Scale((224,224)),\n",
    "        transforms.ToTensor(),\n",
    "    ]\n",
    ")\n",
    "        \n",
    "caltech256_train = Caltech256(\"/datasets/Caltech256/256_ObjectCategories/\", example_transform, train=True)\n",
    "caltech256_test = Caltech256(\"/datasets/Caltech256/256_ObjectCategories/\", example_transform, train=False)\n",
    "\n",
    "train_data = torch.utils.data.DataLoader(\n",
    "    dataset = caltech256_train,\n",
    "    batch_size = 32,\n",
    "    shuffle = True,\n",
    "    num_workers = 4\n",
    ")\n",
    "\n",
    "test_data = torch.utils.data.DataLoader(\n",
    "    dataset = caltech256_test,\n",
    "    batch_size = 32,\n",
    "    shuffle = True,\n",
    "    num_workers = 4\n",
    ")\n",
    "\n",
    "# print(train_data)\n",
    "\n",
    "#import vgg model\n",
    "\n",
    "vgg16 = models.vgg16(pretrained = True)\n",
    "# print(vgg16)\n",
    "\n",
    "\n",
    "\n",
    "\n",
    "\n",
    "\n"
   ]
  },
  {
   "cell_type": "markdown",
   "metadata": {},
   "source": [
    "# define model based on VGG16"
   ]
  },
  {
   "cell_type": "code",
   "execution_count": 2,
   "metadata": {},
   "outputs": [],
   "source": [
    "#replace layer \n",
    "\n",
    "\n",
    "class Diy_vgg(nn.Module):\n",
    "    def __init__(self):\n",
    "        super(Diy_vgg,self).__init__()\n",
    "        self.features = vgg16.features\n",
    "        self.classifier = nn.Sequential(\n",
    "            nn.Linear(25088,4096),\n",
    "            nn.ReLU(),\n",
    "            nn.Dropout(p=0.5),\n",
    "            nn.Linear(4096,4096),\n",
    "            nn.ReLU(),\n",
    "            nn.Dropout(p=0.5),\n",
    "            nn.Linear(4096,256)\n",
    "    )\n",
    "    def forward(self,x):\n",
    "        out = self.features(x)\n",
    "        out = out.view(out.size(0),-1)\n",
    "        out = self.classifier(out)\n",
    "        return out\n",
    "\n",
    "\n",
    "#make instance        \n",
    "diy_model = Diy_vgg()\n",
    "#close autograd\n",
    "\n",
    "\n",
    "    "
   ]
  },
  {
   "cell_type": "code",
   "execution_count": 3,
   "metadata": {},
   "outputs": [
    {
     "name": "stdout",
     "output_type": "stream",
     "text": [
      "Diy_vgg (\n",
      "  (features): Sequential (\n",
      "    (0): Conv2d(3, 64, kernel_size=(3, 3), stride=(1, 1), padding=(1, 1))\n",
      "    (1): ReLU (inplace)\n",
      "    (2): Conv2d(64, 64, kernel_size=(3, 3), stride=(1, 1), padding=(1, 1))\n",
      "    (3): ReLU (inplace)\n",
      "    (4): MaxPool2d (size=(2, 2), stride=(2, 2), dilation=(1, 1))\n",
      "    (5): Conv2d(64, 128, kernel_size=(3, 3), stride=(1, 1), padding=(1, 1))\n",
      "    (6): ReLU (inplace)\n",
      "    (7): Conv2d(128, 128, kernel_size=(3, 3), stride=(1, 1), padding=(1, 1))\n",
      "    (8): ReLU (inplace)\n",
      "    (9): MaxPool2d (size=(2, 2), stride=(2, 2), dilation=(1, 1))\n",
      "    (10): Conv2d(128, 256, kernel_size=(3, 3), stride=(1, 1), padding=(1, 1))\n",
      "    (11): ReLU (inplace)\n",
      "    (12): Conv2d(256, 256, kernel_size=(3, 3), stride=(1, 1), padding=(1, 1))\n",
      "    (13): ReLU (inplace)\n",
      "    (14): Conv2d(256, 256, kernel_size=(3, 3), stride=(1, 1), padding=(1, 1))\n",
      "    (15): ReLU (inplace)\n",
      "    (16): MaxPool2d (size=(2, 2), stride=(2, 2), dilation=(1, 1))\n",
      "    (17): Conv2d(256, 512, kernel_size=(3, 3), stride=(1, 1), padding=(1, 1))\n",
      "    (18): ReLU (inplace)\n",
      "    (19): Conv2d(512, 512, kernel_size=(3, 3), stride=(1, 1), padding=(1, 1))\n",
      "    (20): ReLU (inplace)\n",
      "    (21): Conv2d(512, 512, kernel_size=(3, 3), stride=(1, 1), padding=(1, 1))\n",
      "    (22): ReLU (inplace)\n",
      "    (23): MaxPool2d (size=(2, 2), stride=(2, 2), dilation=(1, 1))\n",
      "    (24): Conv2d(512, 512, kernel_size=(3, 3), stride=(1, 1), padding=(1, 1))\n",
      "    (25): ReLU (inplace)\n",
      "    (26): Conv2d(512, 512, kernel_size=(3, 3), stride=(1, 1), padding=(1, 1))\n",
      "    (27): ReLU (inplace)\n",
      "    (28): Conv2d(512, 512, kernel_size=(3, 3), stride=(1, 1), padding=(1, 1))\n",
      "    (29): ReLU (inplace)\n",
      "    (30): MaxPool2d (size=(2, 2), stride=(2, 2), dilation=(1, 1))\n",
      "  )\n",
      "  (classifier): Sequential (\n",
      "    (0): Linear (25088 -> 4096)\n",
      "    (1): ReLU ()\n",
      "    (2): Dropout (p = 0.5)\n",
      "    (3): Linear (4096 -> 4096)\n",
      "    (4): ReLU ()\n",
      "    (5): Dropout (p = 0.5)\n",
      "    (6): Linear (4096 -> 256)\n",
      "  )\n",
      ")\n"
     ]
    }
   ],
   "source": [
    "print(diy_model)"
   ]
  },
  {
   "cell_type": "code",
   "execution_count": 3,
   "metadata": {},
   "outputs": [],
   "source": [
    "#only softmax can be update\n",
    "\n",
    "for param in diy_model.parameters():\n",
    "    param.requires_grad = False\n",
    "diy_model.classifier[6].weight.requires_grad = True\n",
    "diy_model.classifier[6].bias.requires_grad = True\n",
    "# for param in diy_model.parameters():\n",
    "#     print(param.requires_grad)\n"
   ]
  },
  {
   "cell_type": "code",
   "execution_count": null,
   "metadata": {},
   "outputs": [],
   "source": [
    "dir(train_data.dataset)"
   ]
  },
  {
   "cell_type": "code",
   "execution_count": 4,
   "metadata": {},
   "outputs": [],
   "source": [
    "def testing(net = None, data_to_test = None):\n",
    "    # Test the Model\n",
    "    net.eval()    # Change model to 'eval' mode (BN uses moving mean/var).\n",
    "    net.cuda()\n",
    "    correct = 0\n",
    "    total = 0\n",
    "    for images, labels in data_to_test:\n",
    "        images = Variable(images).cuda()\n",
    "        labels = labels.long()\n",
    "        labels = labels.view(labels.size()[0])\n",
    "        labels = labels - 1\n",
    "#         labels = Variable(labels).cuda()\n",
    "        outputs = net(images)\n",
    "        _, predicted = torch.max(outputs.data, 1)\n",
    "        total += labels.size(0)\n",
    "        correct += (predicted.cpu() == labels).sum()\n",
    "    return 100 * correct / total\n",
    "    "
   ]
  },
  {
   "cell_type": "code",
   "execution_count": 6,
   "metadata": {},
   "outputs": [
    {
     "data": {
      "text/plain": [
       "0.390625"
      ]
     },
     "execution_count": 6,
     "metadata": {},
     "output_type": "execute_result"
    }
   ],
   "source": [
    "testing(net = diy_model,data_to_test = test_data)"
   ]
  },
  {
   "cell_type": "markdown",
   "metadata": {},
   "source": [
    "# train model"
   ]
  },
  {
   "cell_type": "code",
   "execution_count": 6,
   "metadata": {},
   "outputs": [
    {
     "name": "stdout",
     "output_type": "stream",
     "text": [
      "epoch[0]\tLoss:5.569393157958984\tAcc:0.29296875\n",
      "epoch[0]\tLoss:5.405646324157715\tAcc:6.0546875\n",
      "epoch[1]\tLoss:5.179218292236328\tAcc:16.69921875\n"
     ]
    },
    {
     "name": "stderr",
     "output_type": "stream",
     "text": [
      "Process Process-13:\n",
      "Process Process-14:\n",
      "Process Process-15:\n",
      "Process Process-16:\n",
      "Traceback (most recent call last):\n",
      "  File \"/opt/conda/lib/python3.5/multiprocessing/process.py\", line 252, in _bootstrap\n",
      "    self.run()\n",
      "Traceback (most recent call last):\n",
      "Traceback (most recent call last):\n",
      "  File \"/opt/conda/lib/python3.5/multiprocessing/process.py\", line 93, in run\n",
      "    self._target(*self._args, **self._kwargs)\n",
      "  File \"/opt/conda/lib/python3.5/multiprocessing/process.py\", line 252, in _bootstrap\n",
      "    self.run()\n",
      "Traceback (most recent call last):\n",
      "  File \"/opt/conda/lib/python3.5/multiprocessing/process.py\", line 252, in _bootstrap\n",
      "    self.run()\n",
      "  File \"/opt/conda/lib/python3.5/site-packages/torch/utils/data/dataloader.py\", line 40, in _worker_loop\n",
      "    samples = collate_fn([dataset[i] for i in batch_indices])\n",
      "  File \"/opt/conda/lib/python3.5/multiprocessing/process.py\", line 93, in run\n",
      "    self._target(*self._args, **self._kwargs)\n",
      "  File \"/opt/conda/lib/python3.5/multiprocessing/process.py\", line 252, in _bootstrap\n",
      "    self.run()\n",
      "  File \"/opt/conda/lib/python3.5/multiprocessing/process.py\", line 93, in run\n",
      "    self._target(*self._args, **self._kwargs)\n",
      "  File \"/opt/conda/lib/python3.5/site-packages/torch/utils/data/dataloader.py\", line 40, in _worker_loop\n",
      "    samples = collate_fn([dataset[i] for i in batch_indices])\n",
      "  File \"/opt/conda/lib/python3.5/site-packages/torch/utils/data/dataloader.py\", line 40, in <listcomp>\n",
      "    samples = collate_fn([dataset[i] for i in batch_indices])\n",
      "  File \"/opt/conda/lib/python3.5/site-packages/torch/utils/data/dataloader.py\", line 40, in _worker_loop\n",
      "    samples = collate_fn([dataset[i] for i in batch_indices])\n",
      "  File \"/opt/conda/lib/python3.5/multiprocessing/process.py\", line 93, in run\n",
      "    self._target(*self._args, **self._kwargs)\n",
      "  File \"/datasets/home/55/455/yut107/cse253_hw3_2/caltech256.py\", line 60, in __getitem__\n",
      "    img_name, label = list(self.files.items())[idx]\n",
      "  File \"/opt/conda/lib/python3.5/site-packages/torch/utils/data/dataloader.py\", line 40, in <listcomp>\n",
      "    samples = collate_fn([dataset[i] for i in batch_indices])\n",
      "  File \"/opt/conda/lib/python3.5/site-packages/torch/utils/data/dataloader.py\", line 40, in _worker_loop\n",
      "    samples = collate_fn([dataset[i] for i in batch_indices])\n",
      "KeyboardInterrupt\n",
      "  File \"/opt/conda/lib/python3.5/site-packages/torch/utils/data/dataloader.py\", line 40, in <listcomp>\n",
      "    samples = collate_fn([dataset[i] for i in batch_indices])\n",
      "  File \"/datasets/home/55/455/yut107/cse253_hw3_2/caltech256.py\", line 66, in __getitem__\n",
      "    image = self.transform(image)\n",
      "  File \"/opt/conda/lib/python3.5/site-packages/torch/utils/data/dataloader.py\", line 40, in <listcomp>\n",
      "    samples = collate_fn([dataset[i] for i in batch_indices])\n",
      "  File \"/datasets/home/55/455/yut107/cse253_hw3_2/caltech256.py\", line 66, in __getitem__\n",
      "    image = self.transform(image)\n",
      "  File \"/opt/conda/lib/python3.5/site-packages/torchvision-0.1.9-py3.5.egg/torchvision/transforms.py\", line 34, in __call__\n",
      "    img = t(img)\n",
      "  File \"/datasets/home/55/455/yut107/cse253_hw3_2/caltech256.py\", line 61, in __getitem__\n",
      "    image = PIL.Image.open(img_name).convert(\"RGB\") # A few images are grayscale\n",
      "  File \"/opt/conda/lib/python3.5/site-packages/torchvision-0.1.9-py3.5.egg/torchvision/transforms.py\", line 34, in __call__\n",
      "    img = t(img)\n",
      "  File \"/opt/conda/lib/python3.5/site-packages/PIL/Image.py\", line 875, in convert\n",
      "    self.load()\n",
      "  File \"/opt/conda/lib/python3.5/site-packages/torchvision-0.1.9-py3.5.egg/torchvision/transforms.py\", line 199, in __call__\n",
      "    return img.resize(self.size, self.interpolation)\n",
      "  File \"/opt/conda/lib/python3.5/site-packages/torchvision-0.1.9-py3.5.egg/torchvision/transforms.py\", line 199, in __call__\n",
      "    return img.resize(self.size, self.interpolation)\n",
      "  File \"/opt/conda/lib/python3.5/site-packages/PIL/ImageFile.py\", line 236, in load\n",
      "    n, err_code = decoder.decode(b)\n",
      "  File \"/opt/conda/lib/python3.5/site-packages/PIL/Image.py\", line 1745, in resize\n",
      "    return self._new(self.im.resize(size, resample, box))\n",
      "  File \"/opt/conda/lib/python3.5/site-packages/PIL/Image.py\", line 1745, in resize\n",
      "    return self._new(self.im.resize(size, resample, box))\n",
      "KeyboardInterrupt\n",
      "KeyboardInterrupt\n",
      "KeyboardInterrupt\n"
     ]
    },
    {
     "ename": "KeyboardInterrupt",
     "evalue": "",
     "output_type": "error",
     "traceback": [
      "\u001b[0;31m\u001b[0m",
      "\u001b[0;31mKeyboardInterrupt\u001b[0mTraceback (most recent call last)",
      "\u001b[0;32m<ipython-input-6-852845c35315>\u001b[0m in \u001b[0;36m<module>\u001b[0;34m()\u001b[0m\n\u001b[1;32m     19\u001b[0m         \u001b[0mlabels\u001b[0m \u001b[0;34m=\u001b[0m \u001b[0mlabels\u001b[0m\u001b[0;34m.\u001b[0m\u001b[0mview\u001b[0m\u001b[0;34m(\u001b[0m\u001b[0mlabels\u001b[0m\u001b[0;34m.\u001b[0m\u001b[0msize\u001b[0m\u001b[0;34m(\u001b[0m\u001b[0;34m)\u001b[0m\u001b[0;34m[\u001b[0m\u001b[0;36m0\u001b[0m\u001b[0;34m]\u001b[0m\u001b[0;34m)\u001b[0m\u001b[0;34m\u001b[0m\u001b[0m\n\u001b[1;32m     20\u001b[0m         \u001b[0mlabels\u001b[0m \u001b[0;34m=\u001b[0m \u001b[0mlabels\u001b[0m \u001b[0;34m-\u001b[0m \u001b[0;36m1\u001b[0m\u001b[0;34m\u001b[0m\u001b[0m\n\u001b[0;32m---> 21\u001b[0;31m         \u001b[0mimages\u001b[0m \u001b[0;34m=\u001b[0m \u001b[0mVariable\u001b[0m\u001b[0;34m(\u001b[0m\u001b[0mimages\u001b[0m\u001b[0;34m)\u001b[0m\u001b[0;34m.\u001b[0m\u001b[0mcuda\u001b[0m\u001b[0;34m(\u001b[0m\u001b[0;34m)\u001b[0m\u001b[0;34m\u001b[0m\u001b[0m\n\u001b[0m\u001b[1;32m     22\u001b[0m         \u001b[0mlabels\u001b[0m \u001b[0;34m=\u001b[0m \u001b[0mVariable\u001b[0m\u001b[0;34m(\u001b[0m\u001b[0mlabels\u001b[0m\u001b[0;34m)\u001b[0m\u001b[0;34m.\u001b[0m\u001b[0mcuda\u001b[0m\u001b[0;34m(\u001b[0m\u001b[0;34m)\u001b[0m\u001b[0;34m\u001b[0m\u001b[0m\n\u001b[1;32m     23\u001b[0m         \u001b[0moptimizer\u001b[0m\u001b[0;34m.\u001b[0m\u001b[0mzero_grad\u001b[0m\u001b[0;34m(\u001b[0m\u001b[0;34m)\u001b[0m\u001b[0;34m\u001b[0m\u001b[0m\n",
      "\u001b[0;32m/opt/conda/lib/python3.5/site-packages/torch/autograd/variable.py\u001b[0m in \u001b[0;36mcuda\u001b[0;34m(self, device_id, async)\u001b[0m\n\u001b[1;32m    277\u001b[0m \u001b[0;34m\u001b[0m\u001b[0m\n\u001b[1;32m    278\u001b[0m     \u001b[0;32mdef\u001b[0m \u001b[0mcuda\u001b[0m\u001b[0;34m(\u001b[0m\u001b[0mself\u001b[0m\u001b[0;34m,\u001b[0m \u001b[0mdevice_id\u001b[0m\u001b[0;34m=\u001b[0m\u001b[0;32mNone\u001b[0m\u001b[0;34m,\u001b[0m \u001b[0masync\u001b[0m\u001b[0;34m=\u001b[0m\u001b[0;32mFalse\u001b[0m\u001b[0;34m)\u001b[0m\u001b[0;34m:\u001b[0m\u001b[0;34m\u001b[0m\u001b[0m\n\u001b[0;32m--> 279\u001b[0;31m         \u001b[0;32mreturn\u001b[0m \u001b[0mCudaTransfer\u001b[0m\u001b[0;34m.\u001b[0m\u001b[0mapply\u001b[0m\u001b[0;34m(\u001b[0m\u001b[0mself\u001b[0m\u001b[0;34m,\u001b[0m \u001b[0mdevice_id\u001b[0m\u001b[0;34m,\u001b[0m \u001b[0masync\u001b[0m\u001b[0;34m)\u001b[0m\u001b[0;34m\u001b[0m\u001b[0m\n\u001b[0m\u001b[1;32m    280\u001b[0m \u001b[0;34m\u001b[0m\u001b[0m\n\u001b[1;32m    281\u001b[0m     \u001b[0;32mdef\u001b[0m \u001b[0mcpu\u001b[0m\u001b[0;34m(\u001b[0m\u001b[0mself\u001b[0m\u001b[0;34m)\u001b[0m\u001b[0;34m:\u001b[0m\u001b[0;34m\u001b[0m\u001b[0m\n",
      "\u001b[0;32m/opt/conda/lib/python3.5/site-packages/torch/autograd/_functions/tensor.py\u001b[0m in \u001b[0;36mforward\u001b[0;34m(ctx, i, device_id, async)\u001b[0m\n\u001b[1;32m    149\u001b[0m             \u001b[0;32mreturn\u001b[0m \u001b[0mi\u001b[0m\u001b[0;34m.\u001b[0m\u001b[0mcuda\u001b[0m\u001b[0;34m(\u001b[0m\u001b[0mdevice_id\u001b[0m\u001b[0;34m,\u001b[0m \u001b[0masync\u001b[0m\u001b[0;34m=\u001b[0m\u001b[0masync\u001b[0m\u001b[0;34m)\u001b[0m\u001b[0;34m\u001b[0m\u001b[0m\n\u001b[1;32m    150\u001b[0m         \u001b[0;32melse\u001b[0m\u001b[0;34m:\u001b[0m\u001b[0;34m\u001b[0m\u001b[0m\n\u001b[0;32m--> 151\u001b[0;31m             \u001b[0;32mreturn\u001b[0m \u001b[0mi\u001b[0m\u001b[0;34m.\u001b[0m\u001b[0mcuda\u001b[0m\u001b[0;34m(\u001b[0m\u001b[0masync\u001b[0m\u001b[0;34m=\u001b[0m\u001b[0masync\u001b[0m\u001b[0;34m)\u001b[0m\u001b[0;34m\u001b[0m\u001b[0m\n\u001b[0m\u001b[1;32m    152\u001b[0m \u001b[0;34m\u001b[0m\u001b[0m\n\u001b[1;32m    153\u001b[0m     \u001b[0;34m@\u001b[0m\u001b[0mstaticmethod\u001b[0m\u001b[0;34m\u001b[0m\u001b[0m\n",
      "\u001b[0;32m/opt/conda/lib/python3.5/site-packages/torch/_utils.py\u001b[0m in \u001b[0;36m_cuda\u001b[0;34m(self, device, async)\u001b[0m\n\u001b[1;32m     64\u001b[0m         \u001b[0;32melse\u001b[0m\u001b[0;34m:\u001b[0m\u001b[0;34m\u001b[0m\u001b[0m\n\u001b[1;32m     65\u001b[0m             \u001b[0mnew_type\u001b[0m \u001b[0;34m=\u001b[0m \u001b[0mgetattr\u001b[0m\u001b[0;34m(\u001b[0m\u001b[0mtorch\u001b[0m\u001b[0;34m.\u001b[0m\u001b[0mcuda\u001b[0m\u001b[0;34m,\u001b[0m \u001b[0mself\u001b[0m\u001b[0;34m.\u001b[0m\u001b[0m__class__\u001b[0m\u001b[0;34m.\u001b[0m\u001b[0m__name__\u001b[0m\u001b[0;34m)\u001b[0m\u001b[0;34m\u001b[0m\u001b[0m\n\u001b[0;32m---> 66\u001b[0;31m             \u001b[0;32mreturn\u001b[0m \u001b[0mnew_type\u001b[0m\u001b[0;34m(\u001b[0m\u001b[0mself\u001b[0m\u001b[0;34m.\u001b[0m\u001b[0msize\u001b[0m\u001b[0;34m(\u001b[0m\u001b[0;34m)\u001b[0m\u001b[0;34m)\u001b[0m\u001b[0;34m.\u001b[0m\u001b[0mcopy_\u001b[0m\u001b[0;34m(\u001b[0m\u001b[0mself\u001b[0m\u001b[0;34m,\u001b[0m \u001b[0masync\u001b[0m\u001b[0;34m)\u001b[0m\u001b[0;34m\u001b[0m\u001b[0m\n\u001b[0m\u001b[1;32m     67\u001b[0m \u001b[0;34m\u001b[0m\u001b[0m\n\u001b[1;32m     68\u001b[0m \u001b[0;34m\u001b[0m\u001b[0m\n",
      "\u001b[0;31mKeyboardInterrupt\u001b[0m: "
     ]
    }
   ],
   "source": [
    "\n",
    "\n",
    "\n",
    "\n",
    "\n",
    "#train\n",
    "\n",
    "#\n",
    "learning_rate = 0.0001\n",
    "num_epochs = 20\n",
    "criterion = nn.CrossEntropyLoss()\n",
    "optimizer = torch.optim.Adam(diy_model.classifier[6].parameters(),lr = learning_rate)\n",
    "\n",
    "diy_model.cuda()\n",
    "#diy_model.train()\n",
    "for epoch in range(num_epochs):\n",
    "    for i, (images, labels) in enumerate(train_data):\n",
    "        labels = labels.long()\n",
    "        labels = labels.view(labels.size()[0])\n",
    "        labels = labels - 1\n",
    "        images = Variable(images).cuda()\n",
    "        labels = Variable(labels).cuda()\n",
    "        optimizer.zero_grad()\n",
    "        outputs = diy_model(images)\n",
    "        train_loss = criterion(outputs,labels)\n",
    "        train_loss.backward()\n",
    "        optimizer.step()\n",
    "        if i % 200 ==0:\n",
    "            print(\"epoch[%d]\\tLoss:%s\\tAcc:%s\"%(epoch,train_loss.data[0],testing(net = diy_model,data_to_test = test_data)))\n",
    "\n",
    "\n"
   ]
  },
  {
   "cell_type": "code",
   "execution_count": 13,
   "metadata": {},
   "outputs": [
    {
     "data": {
      "text/plain": [
       "array([[[[ 0.36470589,  0.36862746,  0.36862746, ...,  0.24705882,\n",
       "           0.24313726,  0.23529412],\n",
       "         [ 0.36470589,  0.36862746,  0.36862746, ...,  0.25098041,\n",
       "           0.24705882,  0.23921569],\n",
       "         [ 0.36078432,  0.36470589,  0.36470589, ...,  0.25490198,\n",
       "           0.25490198,  0.24313726],\n",
       "         ..., \n",
       "         [ 0.02745098,  0.04313726,  0.05490196, ...,  0.04705882,\n",
       "           0.05098039,  0.04313726],\n",
       "         [ 0.01568628,  0.01568628,  0.01176471, ...,  0.02352941,\n",
       "           0.02352941,  0.02352941],\n",
       "         [ 0.00392157,  0.        ,  0.00392157, ...,  0.00392157,\n",
       "           0.        ,  0.        ]],\n",
       "\n",
       "        [[ 0.54901963,  0.5529412 ,  0.5529412 , ...,  0.45882353,\n",
       "           0.45490196,  0.44705883],\n",
       "         [ 0.54901963,  0.5529412 ,  0.54901963, ...,  0.4627451 ,\n",
       "           0.45882353,  0.4509804 ],\n",
       "         [ 0.54509807,  0.54901963,  0.54901963, ...,  0.46666667,\n",
       "           0.46666667,  0.45490196],\n",
       "         ..., \n",
       "         [ 0.02745098,  0.04313726,  0.05490196, ...,  0.0627451 ,\n",
       "           0.06666667,  0.05882353],\n",
       "         [ 0.01568628,  0.01568628,  0.01176471, ...,  0.03921569,\n",
       "           0.03921569,  0.03921569],\n",
       "         [ 0.00392157,  0.        ,  0.00392157, ...,  0.01568628,\n",
       "           0.01176471,  0.01568628]],\n",
       "\n",
       "        [[ 0.90980393,  0.9137255 ,  0.91764706, ...,  0.87450981,\n",
       "           0.87058824,  0.86274511],\n",
       "         [ 0.90980393,  0.9137255 ,  0.91764706, ...,  0.87843138,\n",
       "           0.87450981,  0.86666667],\n",
       "         [ 0.90588236,  0.90980393,  0.9137255 , ...,  0.88235295,\n",
       "           0.88235295,  0.87058824],\n",
       "         ..., \n",
       "         [ 0.02745098,  0.04313726,  0.05490196, ...,  0.05882353,\n",
       "           0.0627451 ,  0.05490196],\n",
       "         [ 0.01568628,  0.01568628,  0.01176471, ...,  0.03529412,\n",
       "           0.03529412,  0.03529412],\n",
       "         [ 0.00392157,  0.        ,  0.00392157, ...,  0.01176471,\n",
       "           0.00784314,  0.01176471]]],\n",
       "\n",
       "\n",
       "       [[[ 1.        ,  1.        ,  1.        , ...,  1.        ,\n",
       "           1.        ,  1.        ],\n",
       "         [ 1.        ,  1.        ,  1.        , ...,  1.        ,\n",
       "           1.        ,  1.        ],\n",
       "         [ 1.        ,  1.        ,  1.        , ...,  1.        ,\n",
       "           1.        ,  1.        ],\n",
       "         ..., \n",
       "         [ 1.        ,  1.        ,  1.        , ...,  1.        ,\n",
       "           1.        ,  1.        ],\n",
       "         [ 1.        ,  1.        ,  1.        , ...,  1.        ,\n",
       "           1.        ,  1.        ],\n",
       "         [ 1.        ,  1.        ,  1.        , ...,  1.        ,\n",
       "           1.        ,  1.        ]],\n",
       "\n",
       "        [[ 1.        ,  1.        ,  1.        , ...,  1.        ,\n",
       "           1.        ,  1.        ],\n",
       "         [ 1.        ,  1.        ,  1.        , ...,  1.        ,\n",
       "           1.        ,  1.        ],\n",
       "         [ 1.        ,  1.        ,  1.        , ...,  1.        ,\n",
       "           1.        ,  1.        ],\n",
       "         ..., \n",
       "         [ 1.        ,  1.        ,  1.        , ...,  1.        ,\n",
       "           1.        ,  1.        ],\n",
       "         [ 1.        ,  1.        ,  1.        , ...,  1.        ,\n",
       "           1.        ,  1.        ],\n",
       "         [ 1.        ,  1.        ,  1.        , ...,  1.        ,\n",
       "           1.        ,  1.        ]],\n",
       "\n",
       "        [[ 1.        ,  1.        ,  1.        , ...,  1.        ,\n",
       "           1.        ,  1.        ],\n",
       "         [ 1.        ,  1.        ,  1.        , ...,  1.        ,\n",
       "           1.        ,  1.        ],\n",
       "         [ 1.        ,  1.        ,  1.        , ...,  1.        ,\n",
       "           1.        ,  1.        ],\n",
       "         ..., \n",
       "         [ 1.        ,  1.        ,  1.        , ...,  1.        ,\n",
       "           1.        ,  1.        ],\n",
       "         [ 1.        ,  1.        ,  1.        , ...,  1.        ,\n",
       "           1.        ,  1.        ],\n",
       "         [ 1.        ,  1.        ,  1.        , ...,  1.        ,\n",
       "           1.        ,  1.        ]]],\n",
       "\n",
       "\n",
       "       [[[ 0.80784315,  0.80784315,  0.80392158, ...,  0.80392158,\n",
       "           0.80784315,  0.79607844],\n",
       "         [ 0.80784315,  0.80784315,  0.80392158, ...,  0.80784315,\n",
       "           0.81176472,  0.80000001],\n",
       "         [ 0.81176472,  0.80784315,  0.80784315, ...,  0.80392158,\n",
       "           0.80784315,  0.80392158],\n",
       "         ..., \n",
       "         [ 0.97647059,  0.98039216,  0.98039216, ...,  0.97254902,\n",
       "           0.96862745,  0.96862745],\n",
       "         [ 0.97647059,  0.97647059,  0.97647059, ...,  0.97254902,\n",
       "           0.96862745,  0.96862745],\n",
       "         [ 0.97254902,  0.97254902,  0.97647059, ...,  0.97254902,\n",
       "           0.96862745,  0.96862745]],\n",
       "\n",
       "        [[ 0.80784315,  0.80784315,  0.80392158, ...,  0.80392158,\n",
       "           0.80784315,  0.79607844],\n",
       "         [ 0.80784315,  0.80784315,  0.80392158, ...,  0.80784315,\n",
       "           0.81176472,  0.80000001],\n",
       "         [ 0.81176472,  0.80784315,  0.80784315, ...,  0.80392158,\n",
       "           0.80784315,  0.80392158],\n",
       "         ..., \n",
       "         [ 0.97254902,  0.97647059,  0.97647059, ...,  0.97254902,\n",
       "           0.96862745,  0.96862745],\n",
       "         [ 0.97254902,  0.97254902,  0.97254902, ...,  0.97254902,\n",
       "           0.96862745,  0.96862745],\n",
       "         [ 0.96862745,  0.96862745,  0.97254902, ...,  0.97254902,\n",
       "           0.96862745,  0.96862745]],\n",
       "\n",
       "        [[ 0.80784315,  0.80784315,  0.80392158, ...,  0.80392158,\n",
       "           0.80784315,  0.79607844],\n",
       "         [ 0.80784315,  0.80784315,  0.80392158, ...,  0.80784315,\n",
       "           0.81176472,  0.80000001],\n",
       "         [ 0.81176472,  0.80784315,  0.80784315, ...,  0.80392158,\n",
       "           0.80784315,  0.80392158],\n",
       "         ..., \n",
       "         [ 0.96470588,  0.96862745,  0.96862745, ...,  0.96470588,\n",
       "           0.96078432,  0.96078432],\n",
       "         [ 0.96470588,  0.96470588,  0.96470588, ...,  0.96470588,\n",
       "           0.96078432,  0.96078432],\n",
       "         [ 0.96078432,  0.96078432,  0.96470588, ...,  0.96470588,\n",
       "           0.96078432,  0.96078432]]],\n",
       "\n",
       "\n",
       "       ..., \n",
       "       [[[ 0.43137255,  0.49411765,  0.53725493, ...,  0.49019608,\n",
       "           0.33333334,  0.34509805],\n",
       "         [ 0.43529412,  0.52156866,  0.60392159, ...,  0.3882353 ,\n",
       "           0.3019608 ,  0.37254903],\n",
       "         [ 0.40000001,  0.39607844,  0.40392157, ...,  0.34509805,\n",
       "           0.38039216,  0.38431373],\n",
       "         ..., \n",
       "         [ 0.34901962,  0.4509804 ,  0.43137255, ...,  0.23921569,\n",
       "           0.23529412,  0.23529412],\n",
       "         [ 0.41176471,  0.38039216,  0.36470589, ...,  0.23921569,\n",
       "           0.23529412,  0.23529412],\n",
       "         [ 0.52156866,  0.41568628,  0.40000001, ...,  0.23921569,\n",
       "           0.23529412,  0.23529412]],\n",
       "\n",
       "        [[ 0.4627451 ,  0.52941179,  0.57647061, ...,  0.50196081,\n",
       "           0.41568628,  0.41176471],\n",
       "         [ 0.46666667,  0.55686277,  0.63921571, ...,  0.41960785,\n",
       "           0.3882353 ,  0.44313726],\n",
       "         [ 0.41568628,  0.41176471,  0.42352942, ...,  0.39607844,\n",
       "           0.46666667,  0.4509804 ],\n",
       "         ..., \n",
       "         [ 0.44705883,  0.50588238,  0.53725493, ...,  0.24705882,\n",
       "           0.24313726,  0.24313726],\n",
       "         [ 0.49411765,  0.47058824,  0.44705883, ...,  0.24705882,\n",
       "           0.24313726,  0.24313726],\n",
       "         [ 0.59607846,  0.56862748,  0.4627451 , ...,  0.24705882,\n",
       "           0.24313726,  0.24313726]],\n",
       "\n",
       "        [[ 0.62352943,  0.66666669,  0.70588237, ...,  0.50588238,\n",
       "           0.34509805,  0.35294119],\n",
       "         [ 0.56078434,  0.63529414,  0.70980394, ...,  0.3882353 ,\n",
       "           0.29803923,  0.36862746],\n",
       "         [ 0.49019608,  0.46666667,  0.47058824, ...,  0.32941177,\n",
       "           0.34901962,  0.36078432],\n",
       "         ..., \n",
       "         [ 0.32941177,  0.3882353 ,  0.41176471, ...,  0.29411766,\n",
       "           0.29019609,  0.29019609],\n",
       "         [ 0.3764706 ,  0.33725491,  0.33725491, ...,  0.29411766,\n",
       "           0.29019609,  0.29019609],\n",
       "         [ 0.41176471,  0.35294119,  0.30588236, ...,  0.29411766,\n",
       "           0.29019609,  0.29019609]]],\n",
       "\n",
       "\n",
       "       [[[ 0.33333334,  0.30588236,  0.30588236, ...,  0.24313726,\n",
       "           0.24705882,  0.25490198],\n",
       "         [ 0.38431373,  0.35686275,  0.32941177, ...,  0.27450982,\n",
       "           0.28627452,  0.29411766],\n",
       "         [ 0.36862746,  0.35686275,  0.34117648, ...,  0.29803923,\n",
       "           0.30980393,  0.31764707],\n",
       "         ..., \n",
       "         [ 0.23529412,  0.23529412,  0.23529412, ...,  0.21176471,\n",
       "           0.21176471,  0.21176471],\n",
       "         [ 0.23529412,  0.23529412,  0.23137255, ...,  0.21176471,\n",
       "           0.21176471,  0.21176471],\n",
       "         [ 0.23529412,  0.23529412,  0.23137255, ...,  0.21568628,\n",
       "           0.21568628,  0.21568628]],\n",
       "\n",
       "        [[ 0.30588236,  0.27450982,  0.27058825, ...,  0.24313726,\n",
       "           0.24705882,  0.25490198],\n",
       "         [ 0.34901962,  0.31764707,  0.29019609, ...,  0.26666668,\n",
       "           0.28235295,  0.29019609],\n",
       "         [ 0.32941177,  0.3137255 ,  0.29411766, ...,  0.27450982,\n",
       "           0.28627452,  0.29019609],\n",
       "         ..., \n",
       "         [ 0.22352941,  0.22352941,  0.22352941, ...,  0.22745098,\n",
       "           0.22745098,  0.22745098],\n",
       "         [ 0.22352941,  0.22352941,  0.21960784, ...,  0.22745098,\n",
       "           0.22745098,  0.22745098],\n",
       "         [ 0.22352941,  0.22352941,  0.21960784, ...,  0.23137255,\n",
       "           0.23137255,  0.23137255]],\n",
       "\n",
       "        [[ 0.30588236,  0.27450982,  0.26666668, ...,  0.27450982,\n",
       "           0.27843139,  0.28627452],\n",
       "         [ 0.35294119,  0.3137255 ,  0.28235295, ...,  0.29803923,\n",
       "           0.30980393,  0.31764707],\n",
       "         [ 0.32549021,  0.3137255 ,  0.29019609, ...,  0.3019608 ,\n",
       "           0.3137255 ,  0.31764707],\n",
       "         ..., \n",
       "         [ 0.25098041,  0.25098041,  0.25098041, ...,  0.27450982,\n",
       "           0.27450982,  0.27450982],\n",
       "         [ 0.25098041,  0.25098041,  0.24705882, ...,  0.27450982,\n",
       "           0.27450982,  0.27450982],\n",
       "         [ 0.25098041,  0.25098041,  0.24705882, ...,  0.27843139,\n",
       "           0.27843139,  0.27843139]]],\n",
       "\n",
       "\n",
       "       [[[ 0.80392158,  0.80392158,  0.75686276, ...,  0.50196081,\n",
       "           0.48627451,  0.47843137],\n",
       "         [ 0.82352942,  0.81176472,  0.74901962, ...,  0.52156866,\n",
       "           0.50980395,  0.49411765],\n",
       "         [ 0.81960785,  0.79607844,  0.74509805, ...,  0.53725493,\n",
       "           0.52941179,  0.51372552],\n",
       "         ..., \n",
       "         [ 0.37254903,  0.30588236,  0.27450982, ...,  0.59215689,\n",
       "           0.76862746,  0.79607844],\n",
       "         [ 0.36862746,  0.30980393,  0.27843139, ...,  0.65882355,\n",
       "           0.78039217,  0.72156864],\n",
       "         [ 0.36470589,  0.3137255 ,  0.28235295, ...,  0.7019608 ,\n",
       "           0.76078433,  0.61960787]],\n",
       "\n",
       "        [[ 0.75294119,  0.7647059 ,  0.74509805, ...,  0.49019608,\n",
       "           0.48235294,  0.48627451],\n",
       "         [ 0.78039217,  0.78039217,  0.73725492, ...,  0.50588238,\n",
       "           0.50196081,  0.49803922],\n",
       "         [ 0.79215688,  0.77254903,  0.73333335, ...,  0.51372552,\n",
       "           0.51372552,  0.50980395],\n",
       "         ..., \n",
       "         [ 0.56078434,  0.49411765,  0.43921569, ...,  0.73725492,\n",
       "           0.78431374,  0.76862746],\n",
       "         [ 0.56078434,  0.49803922,  0.44313726, ...,  0.75294119,\n",
       "           0.76078433,  0.67843139],\n",
       "         [ 0.5529412 ,  0.50196081,  0.44705883, ...,  0.76078433,\n",
       "           0.72941178,  0.58823532]],\n",
       "\n",
       "        [[ 0.74117649,  0.76862746,  0.7647059 , ...,  0.42352942,\n",
       "           0.41568628,  0.41568628],\n",
       "         [ 0.7764706 ,  0.78823531,  0.75686276, ...,  0.43921569,\n",
       "           0.43529412,  0.42745098],\n",
       "         [ 0.80392158,  0.79215688,  0.75294119, ...,  0.4509804 ,\n",
       "           0.44705883,  0.43921569],\n",
       "         ..., \n",
       "         [ 0.63137257,  0.5411765 ,  0.39215687, ...,  0.80784315,\n",
       "           0.83137256,  0.75686276],\n",
       "         [ 0.627451  ,  0.54509807,  0.39215687, ...,  0.81176472,\n",
       "           0.7764706 ,  0.62352943],\n",
       "         [ 0.62352943,  0.54901963,  0.39607844, ...,  0.78823531,\n",
       "           0.70980394,  0.49411765]]]], dtype=float32)"
      ]
     },
     "execution_count": 13,
     "metadata": {},
     "output_type": "execute_result"
    }
   ],
   "source": [
    "images.numpy()"
   ]
  },
  {
   "cell_type": "markdown",
   "metadata": {},
   "source": [
    "# first conv layer result "
   ]
  },
  {
   "cell_type": "code",
   "execution_count": 14,
   "metadata": {},
   "outputs": [],
   "source": [
    "import numpy as np\n",
    "import matplotlib.pyplot as plt\n",
    "#visualize from firt convolution filters\n",
    "\n",
    "# images = images.data.cpu()\n",
    "#show original picture\n",
    "pic = np.zeros((224,224,3))\n",
    "pic[:,:,0] = images[2][0,:,:].numpy()\n",
    "pic[:,:,1] = images[2][1,:,:].numpy()\n",
    "pic[:,:,2] = images[2][2,:,:].numpy()\n",
    "# plt.figure\n",
    "# plt.imshow(pic)\n",
    "# plt.show()\n",
    "\n",
    "first_conv = diy_model.features[0].cpu()\n",
    "new_pic = torch.zeros(1,3,224,224)\n",
    "new_pic[0,:,:,:] = images[3]\n",
    "conv_result = first_conv(Variable(new_pic))\n",
    "\n",
    "\n",
    "\n",
    "\n",
    "\n"
   ]
  },
  {
   "cell_type": "code",
   "execution_count": 15,
   "metadata": {},
   "outputs": [
    {
     "data": {
      "image/png": "[encoded data removed]",
      "text/plain": [
       "<matplotlib.figure.Figure at 0x7f1be8054ba8>"
      ]
     },
     "metadata": {},
     "output_type": "display_data"
    }
   ],
   "source": [
    "plt.imshow(conv_result[0][2].data.numpy())\n",
    "plt.show()\n",
    "\n"
   ]
  },
  {
   "cell_type": "markdown",
   "metadata": {},
   "source": [
    "# first layer filter visulization"
   ]
  },
  {
   "cell_type": "code",
   "execution_count": 14,
   "metadata": {},
   "outputs": [
    {
     "data": {
      "image/png": "[encoded data removed]",
      "text/plain": [
       "<matplotlib.figure.Figure at 0x7fadccebe780>"
      ]
     },
     "metadata": {},
     "output_type": "display_data"
    }
   ],
   "source": [
    "#show weights\n",
    "for i in range(64):\n",
    "    plt.subplot(8,8,i+1)\n",
    "    plt.imshow(first_conv.weight[i][1].data.numpy())\n",
    "    plt.axis('off')\n",
    "plt.show()\n"
   ]
  },
  {
   "cell_type": "code",
   "execution_count": null,
   "metadata": {},
   "outputs": [],
   "source": []
  },
  {
   "cell_type": "code",
   "execution_count": 24,
   "metadata": {},
   "outputs": [],
   "source": [
    "to_last_conv = nn.Sequential()\n",
    "for i in range(30):\n",
    "#     print(\"%d:\"%i,diy_model.features[i])\n",
    "    to_last_conv.add_module(str(i),diy_model.features[i])\n",
    "\n",
    "# result from last conv layer\n",
    "to_last_conv.cuda()\n",
    "to_last_conv_result = to_last_conv(Variable(new_pic).cuda())\n"
   ]
  },
  {
   "cell_type": "code",
   "execution_count": 22,
   "metadata": {},
   "outputs": [
    {
     "data": {
      "text/plain": [
       "Sequential (\n",
       "  (0): Conv2d(3, 64, kernel_size=(3, 3), stride=(1, 1), padding=(1, 1))\n",
       "  (1): ReLU (inplace)\n",
       "  (2): Conv2d(64, 64, kernel_size=(3, 3), stride=(1, 1), padding=(1, 1))\n",
       "  (3): ReLU (inplace)\n",
       "  (4): MaxPool2d (size=(2, 2), stride=(2, 2), dilation=(1, 1))\n",
       "  (5): Conv2d(64, 128, kernel_size=(3, 3), stride=(1, 1), padding=(1, 1))\n",
       "  (6): ReLU (inplace)\n",
       "  (7): Conv2d(128, 128, kernel_size=(3, 3), stride=(1, 1), padding=(1, 1))\n",
       "  (8): ReLU (inplace)\n",
       "  (9): MaxPool2d (size=(2, 2), stride=(2, 2), dilation=(1, 1))\n",
       "  (10): Conv2d(128, 256, kernel_size=(3, 3), stride=(1, 1), padding=(1, 1))\n",
       "  (11): ReLU (inplace)\n",
       "  (12): Conv2d(256, 256, kernel_size=(3, 3), stride=(1, 1), padding=(1, 1))\n",
       "  (13): ReLU (inplace)\n",
       "  (14): Conv2d(256, 256, kernel_size=(3, 3), stride=(1, 1), padding=(1, 1))\n",
       "  (15): ReLU (inplace)\n",
       "  (16): MaxPool2d (size=(2, 2), stride=(2, 2), dilation=(1, 1))\n",
       "  (17): Conv2d(256, 512, kernel_size=(3, 3), stride=(1, 1), padding=(1, 1))\n",
       "  (18): ReLU (inplace)\n",
       "  (19): Conv2d(512, 512, kernel_size=(3, 3), stride=(1, 1), padding=(1, 1))\n",
       "  (20): ReLU (inplace)\n",
       "  (21): Conv2d(512, 512, kernel_size=(3, 3), stride=(1, 1), padding=(1, 1))\n",
       "  (22): ReLU (inplace)\n",
       "  (23): MaxPool2d (size=(2, 2), stride=(2, 2), dilation=(1, 1))\n",
       "  (24): Conv2d(512, 512, kernel_size=(3, 3), stride=(1, 1), padding=(1, 1))\n",
       "  (25): ReLU (inplace)\n",
       "  (26): Conv2d(512, 512, kernel_size=(3, 3), stride=(1, 1), padding=(1, 1))\n",
       "  (27): ReLU (inplace)\n",
       "  (28): Conv2d(512, 512, kernel_size=(3, 3), stride=(1, 1), padding=(1, 1))\n",
       "  (29): ReLU (inplace)\n",
       "  (30): MaxPool2d (size=(2, 2), stride=(2, 2), dilation=(1, 1))\n",
       ")"
      ]
     },
     "execution_count": 22,
     "metadata": {},
     "output_type": "execute_result"
    }
   ],
   "source": [
    "to_last_conv"
   ]
  },
  {
   "cell_type": "markdown",
   "metadata": {},
   "source": [
    "# Last filter results"
   ]
  },
  {
   "cell_type": "code",
   "execution_count": 32,
   "metadata": {},
   "outputs": [
    {
     "data": {
      "image/png": "[encoded data removed]",
      "text/plain": [
       "<matplotlib.figure.Figure at 0x7f1be1da9898>"
      ]
     },
     "metadata": {},
     "output_type": "display_data"
    },
    {
     "data": {
      "image/png": "[encoded data removed]",
      "text/plain": [
       "<matplotlib.figure.Figure at 0x7f1be1d11cf8>"
      ]
     },
     "metadata": {},
     "output_type": "display_data"
    },
    {
     "data": {
      "image/png": "[encoded data removed]",
      "text/plain": [
       "<matplotlib.figure.Figure at 0x7f1be1cbf4e0>"
      ]
     },
     "metadata": {},
     "output_type": "display_data"
    },
    {
     "data": {
      "image/png": "[encoded data removed]",
      "text/plain": [
       "<matplotlib.figure.Figure at 0x7f1be1d117b8>"
      ]
     },
     "metadata": {},
     "output_type": "display_data"
    },
    {
     "data": {
      "image/png": "[encoded data removed]",
      "text/plain": [
       "<matplotlib.figure.Figure at 0x7f1be225aeb8>"
      ]
     },
     "metadata": {},
     "output_type": "display_data"
    },
    {
     "data": {
      "image/png": "[encoded data removed]",
      "text/plain": [
       "<matplotlib.figure.Figure at 0x7f1be80710b8>"
      ]
     },
     "metadata": {},
     "output_type": "display_data"
    },
    {
     "data": {
      "image/png": "[encoded data removed]",
      "text/plain": [
       "<matplotlib.figure.Figure at 0x7f1be3eca470>"
      ]
     },
     "metadata": {},
     "output_type": "display_data"
    },
    {
     "data": {
      "image/png": "[encoded data removed]",
      "text/plain": [
       "<matplotlib.figure.Figure at 0x7f1c0a315978>"
      ]
     },
     "metadata": {},
     "output_type": "display_data"
    },
    {
     "data": {
      "image/png": "[encoded data removed]",
      "text/plain": [
       "<matplotlib.figure.Figure at 0x7f1be21d99b0>"
      ]
     },
     "metadata": {},
     "output_type": "display_data"
    },
    {
     "data": {
      "image/png": "[encoded data removed]",
      "text/plain": [
       "<matplotlib.figure.Figure at 0x7f1be21d6278>"
      ]
     },
     "metadata": {},
     "output_type": "display_data"
    },
    {
     "data": {
      "image/png": "[encoded data removed]",
      "text/plain": [
       "<matplotlib.figure.Figure at 0x7f1be238a6a0>"
      ]
     },
     "metadata": {},
     "output_type": "display_data"
    },
    {
     "data": {
      "image/png": "[encoded data removed]",
      "text/plain": [
       "<matplotlib.figure.Figure at 0x7f1be3fba828>"
      ]
     },
     "metadata": {},
     "output_type": "display_data"
    },
    {
     "data": {
      "image/png": "[encoded data removed]",
      "text/plain": [
       "<matplotlib.figure.Figure at 0x7f1be3eda4a8>"
      ]
     },
     "metadata": {},
     "output_type": "display_data"
    },
    {
     "data": {
      "image/png": "[encoded data removed]",
      "text/plain": [
       "<matplotlib.figure.Figure at 0x7f1be3c66da0>"
      ]
     },
     "metadata": {},
     "output_type": "display_data"
    },
    {
     "data": {
      "image/png": "[encoded data removed]",
      "text/plain": [
       "<matplotlib.figure.Figure at 0x7f1be3d76390>"
      ]
     },
     "metadata": {},
     "output_type": "display_data"
    },
    {
     "data": {
      "image/png": "[encoded data removed]",
      "text/plain": [
       "<matplotlib.figure.Figure at 0x7f1c5d389e48>"
      ]
     },
     "metadata": {},
     "output_type": "display_data"
    },
    {
     "data": {
      "image/png": "[encoded data removed]",
      "text/plain": [
       "<matplotlib.figure.Figure at 0x7f1be21dc748>"
      ]
     },
     "metadata": {},
     "output_type": "display_data"
    },
    {
     "data": {
      "image/png": "[encoded data removed]",
      "text/plain": [
       "<matplotlib.figure.Figure at 0x7f1be21f9f98>"
      ]
     },
     "metadata": {},
     "output_type": "display_data"
    },
    {
     "data": {
      "image/png": "[encoded data removed]",
      "text/plain": [
       "<matplotlib.figure.Figure at 0x7f1be8064d30>"
      ]
     },
     "metadata": {},
     "output_type": "display_data"
    },
    {
     "data": {
      "image/png": "[encoded data removed]",
      "text/plain": [
       "<matplotlib.figure.Figure at 0x7f1be3f5b048>"
      ]
     },
     "metadata": {},
     "output_type": "display_data"
    },
    {
     "data": {
      "image/png": "[encoded data removed]",
      "text/plain": [
       "<matplotlib.figure.Figure at 0x7f1be21dcc50>"
      ]
     },
     "metadata": {},
     "output_type": "display_data"
    },
    {
     "data": {
      "image/png": "[encoded data removed]",
      "text/plain": [
       "<matplotlib.figure.Figure at 0x7f1be804abe0>"
      ]
     },
     "metadata": {},
     "output_type": "display_data"
    },
    {
     "data": {
      "image/png": "[encoded data removed]",
      "text/plain": [
       "<matplotlib.figure.Figure at 0x7f1be3c9aeb8>"
      ]
     },
     "metadata": {},
     "output_type": "display_data"
    },
    {
     "data": {
      "image/png": "[encoded data removed]",
      "text/plain": [
       "<matplotlib.figure.Figure at 0x7f1be3c67ef0>"
      ]
     },
     "metadata": {},
     "output_type": "display_data"
    },
    {
     "data": {
      "image/png": "[encoded data removed]",
      "text/plain": [
       "<matplotlib.figure.Figure at 0x7f1be2439b38>"
      ]
     },
     "metadata": {},
     "output_type": "display_data"
    },
    {
     "data": {
      "image/png": "[encoded data removed]",
      "text/plain": [
       "<matplotlib.figure.Figure at 0x7f1be3ed3b38>"
      ]
     },
     "metadata": {},
     "output_type": "display_data"
    },
    {
     "data": {
      "image/png": "[encoded data removed]",
      "text/plain": [
       "<matplotlib.figure.Figure at 0x7f1be20f5b70>"
      ]
     },
     "metadata": {},
     "output_type": "display_data"
    },
    {
     "data": {
      "image/png": "[encoded data removed]",
      "text/plain": [
       "<matplotlib.figure.Figure at 0x7f1be3ee5080>"
      ]
     },
     "metadata": {},
     "output_type": "display_data"
    },
    {
     "data": {
      "image/png": "[encoded data removed]",
      "text/plain": [
       "<matplotlib.figure.Figure at 0x7f1be3dbe940>"
      ]
     },
     "metadata": {},
     "output_type": "display_data"
    },
    {
     "data": {
      "image/png": "[encoded data removed]",
      "text/plain": [
       "<matplotlib.figure.Figure at 0x7f1c0a2e7d30>"
      ]
     },
     "metadata": {},
     "output_type": "display_data"
    },
    {
     "data": {
      "image/png": "[encoded data removed]",
      "text/plain": [
       "<matplotlib.figure.Figure at 0x7f1be806ebe0>"
      ]
     },
     "metadata": {},
     "output_type": "display_data"
    },
    {
     "data": {
      "image/png": "[encoded data removed]",
      "text/plain": [
       "<matplotlib.figure.Figure at 0x7f1be806b4e0>"
      ]
     },
     "metadata": {},
     "output_type": "display_data"
    },
    {
     "data": {
      "image/png": "[encoded data removed]",
      "text/plain": [
       "<matplotlib.figure.Figure at 0x7f1be80613c8>"
      ]
     },
     "metadata": {},
     "output_type": "display_data"
    },
    {
     "data": {
      "image/png": "[encoded data removed]",
      "text/plain": [
       "<matplotlib.figure.Figure at 0x7f1c0a30b940>"
      ]
     },
     "metadata": {},
     "output_type": "display_data"
    },
    {
     "data": {
      "image/png": "[encoded data removed]",
      "text/plain": [
       "<matplotlib.figure.Figure at 0x7f1be3ff0ef0>"
      ]
     },
     "metadata": {},
     "output_type": "display_data"
    },
    {
     "data": {
      "image/png": "[encoded data removed]",
      "text/plain": [
       "<matplotlib.figure.Figure at 0x7f1be3ed1240>"
      ]
     },
     "metadata": {},
     "output_type": "display_data"
    },
    {
     "data": {
      "image/png": "[encoded data removed]",
      "text/plain": [
       "<matplotlib.figure.Figure at 0x7f1be21d95f8>"
      ]
     },
     "metadata": {},
     "output_type": "display_data"
    },
    {
     "data": {
      "image/png": "[encoded data removed]",
      "text/plain": [
       "<matplotlib.figure.Figure at 0x7f1be3d265f8>"
      ]
     },
     "metadata": {},
     "output_type": "display_data"
    },
    {
     "data": {
      "image/png": "[encoded data removed]",
      "text/plain": [
       "<matplotlib.figure.Figure at 0x7f1c5d389e48>"
      ]
     },
     "metadata": {},
     "output_type": "display_data"
    },
    {
     "data": {
      "image/png": "[encoded data removed]",
      "text/plain": [
       "<matplotlib.figure.Figure at 0x7f1be3e696a0>"
      ]
     },
     "metadata": {},
     "output_type": "display_data"
    },
    {
     "data": {
      "image/png": "[encoded data removed]",
      "text/plain": [
       "<matplotlib.figure.Figure at 0x7f1be3c56470>"
      ]
     },
     "metadata": {},
     "output_type": "display_data"
    },
    {
     "data": {
      "image/png": "[encoded data removed]",
      "text/plain": [
       "<matplotlib.figure.Figure at 0x7f1be2251b70>"
      ]
     },
     "metadata": {},
     "output_type": "display_data"
    },
    {
     "data": {
      "image/png": "[encoded data removed]",
      "text/plain": [
       "<matplotlib.figure.Figure at 0x7f1be80676a0>"
      ]
     },
     "metadata": {},
     "output_type": "display_data"
    },
    {
     "data": {
      "image/png": "[encoded data removed]",
      "text/plain": [
       "<matplotlib.figure.Figure at 0x7f1be3cb3cf8>"
      ]
     },
     "metadata": {},
     "output_type": "display_data"
    },
    {
     "data": {
      "image/png": "[encoded data removed]",
      "text/plain": [
       "<matplotlib.figure.Figure at 0x7f1c0a38e8d0>"
      ]
     },
     "metadata": {},
     "output_type": "display_data"
    },
    {
     "data": {
      "image/png": "[encoded data removed]",
      "text/plain": [
       "<matplotlib.figure.Figure at 0x7f1be3e82eb8>"
      ]
     },
     "metadata": {},
     "output_type": "display_data"
    },
    {
     "data": {
      "image/png": "[encoded data removed]",
      "text/plain": [
       "<matplotlib.figure.Figure at 0x7f1be237d828>"
      ]
     },
     "metadata": {},
     "output_type": "display_data"
    },
    {
     "data": {
      "image/png": "[encoded data removed]",
      "text/plain": [
       "<matplotlib.figure.Figure at 0x7f1be3ee7a20>"
      ]
     },
     "metadata": {},
     "output_type": "display_data"
    },
    {
     "data": {
      "image/png": "[encoded data removed]",
      "text/plain": [
       "<matplotlib.figure.Figure at 0x7f1be807c2b0>"
      ]
     },
     "metadata": {},
     "output_type": "display_data"
    },
    {
     "data": {
      "image/png": "[encoded data removed]",
      "text/plain": [
       "<matplotlib.figure.Figure at 0x7f1be3c494a8>"
      ]
     },
     "metadata": {},
     "output_type": "display_data"
    },
    {
     "data": {
      "image/png": "[encoded data removed]",
      "text/plain": [
       "<matplotlib.figure.Figure at 0x7f1c5f614c88>"
      ]
     },
     "metadata": {},
     "output_type": "display_data"
    },
    {
     "data": {
      "image/png": "[encoded data removed]",
      "text/plain": [
       "<matplotlib.figure.Figure at 0x7f1c0a302908>"
      ]
     },
     "metadata": {},
     "output_type": "display_data"
    },
    {
     "data": {
      "image/png": "[encoded data removed]",
      "text/plain": [
       "<matplotlib.figure.Figure at 0x7f1be22b7f60>"
      ]
     },
     "metadata": {},
     "output_type": "display_data"
    },
    {
     "data": {
      "image/png": "[encoded data removed]",
      "text/plain": [
       "<matplotlib.figure.Figure at 0x7f1be8061208>"
      ]
     },
     "metadata": {},
     "output_type": "display_data"
    },
    {
     "data": {
      "image/png": "[encoded data removed]",
      "text/plain": [
       "<matplotlib.figure.Figure at 0x7f1bccaa4908>"
      ]
     },
     "metadata": {},
     "output_type": "display_data"
    },
    {
     "data": {
      "image/png": "[encoded data removed]",
      "text/plain": [
       "<matplotlib.figure.Figure at 0x7f1c5f60c358>"
      ]
     },
     "metadata": {},
     "output_type": "display_data"
    },
    {
     "data": {
      "image/png": "[encoded data removed]",
      "text/plain": [
       "<matplotlib.figure.Figure at 0x7f1be3eadeb8>"
      ]
     },
     "metadata": {},
     "output_type": "display_data"
    },
    {
     "data": {
      "image/png": "[encoded data removed]",
      "text/plain": [
       "<matplotlib.figure.Figure at 0x7f1be3edd630>"
      ]
     },
     "metadata": {},
     "output_type": "display_data"
    },
    {
     "data": {
      "image/png": "[encoded data removed]",
      "text/plain": [
       "<matplotlib.figure.Figure at 0x7f1be3e89630>"
      ]
     },
     "metadata": {},
     "output_type": "display_data"
    },
    {
     "data": {
      "image/png": "[encoded data removed]",
      "text/plain": [
       "<matplotlib.figure.Figure at 0x7f1c0a30ba58>"
      ]
     },
     "metadata": {},
     "output_type": "display_data"
    },
    {
     "data": {
      "image/png": "[encoded data removed]",
      "text/plain": [
       "<matplotlib.figure.Figure at 0x7f1be3d761d0>"
      ]
     },
     "metadata": {},
     "output_type": "display_data"
    },
    {
     "data": {
      "image/png": "[encoded data removed]",
      "text/plain": [
       "<matplotlib.figure.Figure at 0x7f1be8057d68>"
      ]
     },
     "metadata": {},
     "output_type": "display_data"
    },
    {
     "data": {
      "image/png": "[encoded data removed]",
      "text/plain": [
       "<matplotlib.figure.Figure at 0x7f1be3edb978>"
      ]
     },
     "metadata": {},
     "output_type": "display_data"
    },
    {
     "data": {
      "image/png": "[encoded data removed]",
      "text/plain": [
       "<matplotlib.figure.Figure at 0x7f1be3dbee10>"
      ]
     },
     "metadata": {},
     "output_type": "display_data"
    }
   ],
   "source": [
    "for i in range(64):\n",
    "#     plt.subplot(8,8,i+1)\n",
    "    plt.imshow(to_last_conv_result[0][i].data.cpu().numpy())\n",
    "    plt.axis('off')\n",
    "    plt.show()\n",
    "plt.show()"
   ]
  },
  {
   "cell_type": "code",
   "execution_count": 33,
   "metadata": {},
   "outputs": [
    {
     "data": {
      "image/png": "[encoded data removed]",
      "text/plain": [
       "<matplotlib.figure.Figure at 0x7f1be223e7b8>"
      ]
     },
     "metadata": {},
     "output_type": "display_data"
    }
   ],
   "source": [
    "to_second_conv = nn.Sequential()\n",
    "for i in range(26):\n",
    "#     print(\"%d:\"%i,diy_model.features[i])\n",
    "    to_second_conv.add_module(str(i),diy_model.features[i])\n",
    "\n",
    "# result from last conv layer\n",
    "to_second_conv.cuda()\n",
    "to_second_conv_result = to_second_conv(Variable(new_pic).cuda())\n",
    "\n",
    "for i in range(16):\n",
    "    plt.subplot(4,4,i+1)\n",
    "    plt.imshow(to_second_conv_result[0][i].data.cpu().numpy())\n",
    "    plt.axis('off')\n",
    "plt.show()\n",
    "\n",
    "\n"
   ]
  },
  {
   "cell_type": "markdown",
   "metadata": {},
   "source": [
    "# feature extraction "
   ]
  },
  {
   "cell_type": "code",
   "execution_count": null,
   "metadata": {},
   "outputs": [],
   "source": [
    "labels"
   ]
  },
  {
   "cell_type": "code",
   "execution_count": null,
   "metadata": {},
   "outputs": [],
   "source": [
    "print(vgg16)"
   ]
  },
  {
   "cell_type": "code",
   "execution_count": null,
   "metadata": {
    "scrolled": false
   },
   "outputs": [],
   "source": [
    "# # plt.imshow(first_batch[0].numpy()[0])\n",
    "# # plt.show()\n",
    "# pic = np.zeros((224,224,3))\n",
    "# # [pic[:,:,x] = first_batch[0].numpy()[0][x]) for x in range(3)]\n",
    "# pic[:,:,0] = first_batch[0].numpy()[1][0]\n",
    "# pic[:,:,1] = first_batch[0].numpy()[1][1]\n",
    "# pic[:,:,2] = first_batch[0].numpy()[1][2]\n",
    "# plt.imshow(pic)\n",
    "# plt.show()"
   ]
  }
 ],
 "metadata": {
  "kernelspec": {
   "display_name": "Python 3",
   "language": "python",
   "name": "python3"
  },
  "language_info": {
   "codemirror_mode": {
    "name": "ipython",
    "version": 3
   },
   "file_extension": ".py",
   "mimetype": "text/x-python",
   "name": "python",
   "nbconvert_exporter": "python",
   "pygments_lexer": "ipython3",
   "version": "3.5.4"
  }
 },
 "nbformat": 4,
 "nbformat_minor": 2
}
